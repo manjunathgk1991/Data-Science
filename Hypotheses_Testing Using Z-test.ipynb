{
 "cells": [
  {
   "cell_type": "code",
   "execution_count": 44,
   "metadata": {},
   "outputs": [],
   "source": [
    "import pandas as pd\n",
    "import numpy as np\n",
    "import statsmodels.api as sm\n",
    "from scipy import stats\n",
    "from statsmodels.stats import diagnostic as diag\n",
    "from statsmodels.stats.outliers_influence import variance_inflation_factor\n",
    "from statsmodels.stats.weightstats import ztest"
   ]
  },
  {
   "cell_type": "code",
   "execution_count": 45,
   "metadata": {},
   "outputs": [],
   "source": [
    "df = pd.read_excel('S3P5_Data.xlsx',sheet_name='Sheet1')"
   ]
  },
  {
   "cell_type": "code",
   "execution_count": 46,
   "metadata": {},
   "outputs": [],
   "source": [
    "df1 = df[['TIR142','Linear Sensor', 'Actual Press','UP Current', 'LP Current','UP Position']]"
   ]
  },
  {
   "cell_type": "code",
   "execution_count": 47,
   "metadata": {},
   "outputs": [
    {
     "data": {
      "text/html": [
       "<div>\n",
       "<style scoped>\n",
       "    .dataframe tbody tr th:only-of-type {\n",
       "        vertical-align: middle;\n",
       "    }\n",
       "\n",
       "    .dataframe tbody tr th {\n",
       "        vertical-align: top;\n",
       "    }\n",
       "\n",
       "    .dataframe thead th {\n",
       "        text-align: right;\n",
       "    }\n",
       "</style>\n",
       "<table border=\"1\" class=\"dataframe\">\n",
       "  <thead>\n",
       "    <tr style=\"text-align: right;\">\n",
       "      <th></th>\n",
       "      <th>variable_name</th>\n",
       "      <th>values</th>\n",
       "    </tr>\n",
       "  </thead>\n",
       "  <tbody>\n",
       "    <tr>\n",
       "      <td>0</td>\n",
       "      <td>TIR142</td>\n",
       "      <td>0.272</td>\n",
       "    </tr>\n",
       "    <tr>\n",
       "      <td>1</td>\n",
       "      <td>TIR142</td>\n",
       "      <td>0.151</td>\n",
       "    </tr>\n",
       "    <tr>\n",
       "      <td>2</td>\n",
       "      <td>TIR142</td>\n",
       "      <td>0.216</td>\n",
       "    </tr>\n",
       "    <tr>\n",
       "      <td>3</td>\n",
       "      <td>TIR142</td>\n",
       "      <td>0.175</td>\n",
       "    </tr>\n",
       "    <tr>\n",
       "      <td>4</td>\n",
       "      <td>TIR142</td>\n",
       "      <td>0.311</td>\n",
       "    </tr>\n",
       "    <tr>\n",
       "      <td>...</td>\n",
       "      <td>...</td>\n",
       "      <td>...</td>\n",
       "    </tr>\n",
       "    <tr>\n",
       "      <td>61453</td>\n",
       "      <td>UP Position</td>\n",
       "      <td>1.420</td>\n",
       "    </tr>\n",
       "    <tr>\n",
       "      <td>61454</td>\n",
       "      <td>UP Position</td>\n",
       "      <td>1.420</td>\n",
       "    </tr>\n",
       "    <tr>\n",
       "      <td>61455</td>\n",
       "      <td>UP Position</td>\n",
       "      <td>2.570</td>\n",
       "    </tr>\n",
       "    <tr>\n",
       "      <td>61456</td>\n",
       "      <td>UP Position</td>\n",
       "      <td>2.220</td>\n",
       "    </tr>\n",
       "    <tr>\n",
       "      <td>61457</td>\n",
       "      <td>UP Position</td>\n",
       "      <td>4.060</td>\n",
       "    </tr>\n",
       "  </tbody>\n",
       "</table>\n",
       "<p>61458 rows × 2 columns</p>\n",
       "</div>"
      ],
      "text/plain": [
       "      variable_name  values\n",
       "0            TIR142   0.272\n",
       "1            TIR142   0.151\n",
       "2            TIR142   0.216\n",
       "3            TIR142   0.175\n",
       "4            TIR142   0.311\n",
       "...             ...     ...\n",
       "61453   UP Position   1.420\n",
       "61454   UP Position   1.420\n",
       "61455   UP Position   2.570\n",
       "61456   UP Position   2.220\n",
       "61457   UP Position   4.060\n",
       "\n",
       "[61458 rows x 2 columns]"
      ]
     },
     "execution_count": 47,
     "metadata": {},
     "output_type": "execute_result"
    }
   ],
   "source": [
    "melted_df = pd.melt(df1,var_name=\"variable_name\",value_name=\"values\")\n",
    "melted_df"
   ]
  },
  {
   "cell_type": "code",
   "execution_count": 48,
   "metadata": {},
   "outputs": [
    {
     "data": {
      "text/html": [
       "<div>\n",
       "<style scoped>\n",
       "    .dataframe tbody tr th:only-of-type {\n",
       "        vertical-align: middle;\n",
       "    }\n",
       "\n",
       "    .dataframe tbody tr th {\n",
       "        vertical-align: top;\n",
       "    }\n",
       "\n",
       "    .dataframe thead th {\n",
       "        text-align: right;\n",
       "    }\n",
       "</style>\n",
       "<table border=\"1\" class=\"dataframe\">\n",
       "  <thead>\n",
       "    <tr style=\"text-align: right;\">\n",
       "      <th></th>\n",
       "      <th>count</th>\n",
       "      <th>mean</th>\n",
       "      <th>std</th>\n",
       "    </tr>\n",
       "    <tr>\n",
       "      <th>variable_name</th>\n",
       "      <th></th>\n",
       "      <th></th>\n",
       "      <th></th>\n",
       "    </tr>\n",
       "  </thead>\n",
       "  <tbody>\n",
       "    <tr>\n",
       "      <td>Actual Press</td>\n",
       "      <td>10243</td>\n",
       "      <td>3.30</td>\n",
       "      <td>0.10</td>\n",
       "    </tr>\n",
       "    <tr>\n",
       "      <td>LP Current</td>\n",
       "      <td>10243</td>\n",
       "      <td>-0.13</td>\n",
       "      <td>27.98</td>\n",
       "    </tr>\n",
       "    <tr>\n",
       "      <td>Linear Sensor</td>\n",
       "      <td>10243</td>\n",
       "      <td>-1.71</td>\n",
       "      <td>0.07</td>\n",
       "    </tr>\n",
       "    <tr>\n",
       "      <td>TIR142</td>\n",
       "      <td>10243</td>\n",
       "      <td>0.24</td>\n",
       "      <td>0.10</td>\n",
       "    </tr>\n",
       "    <tr>\n",
       "      <td>UP Current</td>\n",
       "      <td>10243</td>\n",
       "      <td>0.41</td>\n",
       "      <td>31.75</td>\n",
       "    </tr>\n",
       "    <tr>\n",
       "      <td>UP Position</td>\n",
       "      <td>10243</td>\n",
       "      <td>1.46</td>\n",
       "      <td>0.52</td>\n",
       "    </tr>\n",
       "  </tbody>\n",
       "</table>\n",
       "</div>"
      ],
      "text/plain": [
       "               count  mean    std\n",
       "variable_name                    \n",
       "Actual Press   10243  3.30   0.10\n",
       "LP Current     10243 -0.13  27.98\n",
       "Linear Sensor  10243 -1.71   0.07\n",
       "TIR142         10243  0.24   0.10\n",
       "UP Current     10243  0.41  31.75\n",
       "UP Position    10243  1.46   0.52"
      ]
     },
     "execution_count": 48,
     "metadata": {},
     "output_type": "execute_result"
    }
   ],
   "source": [
    "bygroup = melted_df.groupby(['variable_name'])['values']\n",
    "bygroup.aggregate(['count',np.mean, np.std]).round(2)"
   ]
  },
  {
   "cell_type": "code",
   "execution_count": 49,
   "metadata": {},
   "outputs": [
    {
     "name": "stdout",
     "output_type": "stream",
     "text": [
      "reject null hypothesis\n",
      "The test statistic is:  -2.51033\n",
      "The p-value is: 0.01206\n"
     ]
    }
   ],
   "source": [
    "(test_statistic, p_value) = ztest(df['TIR142'], value=0.24,ddof=1.0)\n",
    "\n",
    "\n",
    "if p_value<0.05:\n",
    "    print(\"reject null hypothesis\")\n",
    "    print(\"The test statistic is: \", round(test_statistic,5))\n",
    "    print(\"The p-value is: {:.4}\".format(p_value))\n",
    "else:\n",
    "    print(\"accept null hypothesis\")\n",
    "    print(\"The test statistic is: \", round(test_statistic,5))\n",
    "    print(\"The p-value is: {:.4}\".format(p_value))"
   ]
  },
  {
   "cell_type": "code",
   "execution_count": 50,
   "metadata": {},
   "outputs": [
    {
     "name": "stdout",
     "output_type": "stream",
     "text": [
      "reject null hypothesis\n",
      "The test statistic is:  -4.3129\n",
      "The p-value is: 1.611e-05\n"
     ]
    }
   ],
   "source": [
    "(test_statistic, p_value) = ztest(df['Actual Press'], value=3.30,ddof=1.0)\n",
    "if p_value < 0.05:\n",
    "    print(\"reject null hypothesis\")\n",
    "    print(\"The test statistic is: \", round(test_statistic,5))\n",
    "    print(\"The p-value is: {:.4}\".format(p_value))\n",
    "else:\n",
    "    print(\"accept null hypothesis\")\n",
    "    print(\"The test statistic is: \", round(test_statistic,5))\n",
    "    print(\"The p-value is: {:.4}\".format(p_value))"
   ]
  },
  {
   "cell_type": "code",
   "execution_count": 54,
   "metadata": {},
   "outputs": [
    {
     "name": "stdout",
     "output_type": "stream",
     "text": [
      "accept null hypothesis\n",
      "The test statistic is:  -1.94258\n",
      "The p-value is: 0.05207\n"
     ]
    }
   ],
   "source": [
    "(test_statistic, p_value) = ztest(df['UP Current'], value=0.41,ddof=1.0)\n",
    "\n",
    "if p_value<0.05:\n",
    "    print(\"reject null hypothesis\")\n",
    "    print(\"The test statistic is: \", round(test_statistic,5))\n",
    "    print(\"The p-value is: {:.4}\".format(p_value))\n",
    "else:\n",
    "    print(\"accept null hypothesis\")\n",
    "    print(\"The test statistic is: \", round(test_statistic,5))\n",
    "    print(\"The p-value is: {:.4}\".format(p_value))"
   ]
  },
  {
   "cell_type": "code",
   "execution_count": 55,
   "metadata": {},
   "outputs": [
    {
     "name": "stdout",
     "output_type": "stream",
     "text": [
      "accept null hypothesis\n",
      "The test statistic is:  0.01102\n",
      "The p-value is: 0.9912\n"
     ]
    }
   ],
   "source": [
    "(test_statistic, p_value) = ztest(df['LP Current'], value=-0.13,ddof=1.0)\n",
    "\n",
    "if p_value<0.05:\n",
    "    print(\"reject null hypothesis\")\n",
    "    print(\"The test statistic is: \", round(test_statistic,5))\n",
    "    print(\"The p-value is: {:.4}\".format(p_value))\n",
    "else:\n",
    "    print(\"accept null hypothesis\")\n",
    "    print(\"The test statistic is: \", round(test_statistic,5))\n",
    "    print(\"The p-value is: {:.4}\".format(p_value))"
   ]
  },
  {
   "cell_type": "code",
   "execution_count": 53,
   "metadata": {},
   "outputs": [
    {
     "name": "stdout",
     "output_type": "stream",
     "text": [
      "accept null hypothesis\n",
      "The test statistic is:  -0.58634\n",
      "The p-value is: 0.5576\n"
     ]
    }
   ],
   "source": [
    "(test_statistic, p_value) = ztest(df['UP Position'], value=1.46,ddof=1.0)\n",
    "\n",
    "if p_value<0.05:\n",
    "    print(\"reject null hypothesis\")\n",
    "    print(\"The test statistic is: \", round(test_statistic,5))\n",
    "    print(\"The p-value is: {:.4}\".format(p_value))\n",
    "else:\n",
    "    print(\"accept null hypothesis\")\n",
    "    print(\"The test statistic is: \", round(test_statistic,5))\n",
    "    print(\"The p-value is: {:.4}\".format(p_value))"
   ]
  },
  {
   "cell_type": "code",
   "execution_count": 36,
   "metadata": {},
   "outputs": [
    {
     "name": "stdout",
     "output_type": "stream",
     "text": [
      "reject null hypothesis\n",
      "The test statistic is:  -6.56362\n",
      "The p-value is: 5.252e-11\n"
     ]
    }
   ],
   "source": [
    "(test_statistic, p_value) = ztest(df['Linear Sensor'], value=-1.71, ddof=1.0)\n",
    "\n",
    "if p_value<0.05:\n",
    "    print(\"reject null hypothesis\")\n",
    "    print(\"The test statistic is: \", round(test_statistic,5))\n",
    "    print(\"The p-value is: {:.4}\".format(p_value))\n",
    "else:\n",
    "    print(\"accept null hypothesis\")\n",
    "    print(\"The test statistic is: \", round(test_statistic,5))\n",
    "    print(\"The p-value is: {:.4}\".format(p_value))"
   ]
  },
  {
   "cell_type": "code",
   "execution_count": null,
   "metadata": {},
   "outputs": [],
   "source": []
  }
 ],
 "metadata": {
  "kernelspec": {
   "display_name": "Python 3",
   "language": "python",
   "name": "python3"
  },
  "language_info": {
   "codemirror_mode": {
    "name": "ipython",
    "version": 3
   },
   "file_extension": ".py",
   "mimetype": "text/x-python",
   "name": "python",
   "nbconvert_exporter": "python",
   "pygments_lexer": "ipython3",
   "version": "3.7.4"
  }
 },
 "nbformat": 4,
 "nbformat_minor": 2
}
